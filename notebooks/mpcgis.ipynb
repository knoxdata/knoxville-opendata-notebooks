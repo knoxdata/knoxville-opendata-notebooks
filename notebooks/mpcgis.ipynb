{
 "cells": [
  {
   "cell_type": "code",
   "execution_count": 174,
   "metadata": {},
   "outputs": [],
   "source": [
    "import sys\n",
    "sys.path.append('../')\n",
    "\n",
    "import matplotlib.pyplot as plt\n",
    "import pandas as pd\n",
    "import numpy as np\n",
    "\n",
    "import knoxdata\n",
    "from knoxdata.source.mpc import query_mpc_inventory\n",
    "%matplotlib inline"
   ]
  },
  {
   "cell_type": "markdown",
   "metadata": {},
   "source": [
    "# Scrape Data"
   ]
  },
  {
   "cell_type": "code",
   "execution_count": 175,
   "metadata": {},
   "outputs": [
    {
     "name": "stdout",
     "output_type": "stream",
     "text": [
      "150 72 total queries 10800\n"
     ]
    }
   ],
   "source": [
    "import math\n",
    "import json\n",
    "# determined from website usage for bounds\n",
    "knoxville_bounds = [\n",
    "    [2509746.9416408655, 2659731.9416408655], # lat\n",
    "    [567692.794594815, 639302.794594815], # long\n",
    "]\n",
    "query_area = 1000.0\n",
    "\n",
    "latitudes = np.linspace(knoxville_bounds[0][0], knoxville_bounds[0][1], math.ceil((knoxville_bounds[0][1] - knoxville_bounds[0][0]) / query_area))\n",
    "longitudes = np.linspace(knoxville_bounds[1][0], knoxville_bounds[1][1], math.ceil((knoxville_bounds[1][1] - knoxville_bounds[1][0]) / query_area))\n",
    "\n",
    "print(len(latitudes), len(longitudes), 'total queries', len(latitudes) * len(longitudes))\n",
    "# Caching will be very usefull (but request_cache doesn't work.......)"
   ]
  },
  {
   "cell_type": "code",
   "execution_count": 171,
   "metadata": {},
   "outputs": [],
   "source": [
    "geo_data = {}"
   ]
  },
  {
   "cell_type": "code",
   "execution_count": 178,
   "metadata": {},
   "outputs": [
    {
     "ename": "NotImplementedError",
     "evalue": "API is down right now",
     "output_type": "error",
     "traceback": [
      "\u001b[0;31m---------------------------------------------------------------------------\u001b[0m",
      "\u001b[0;31mNotImplementedError\u001b[0m                       Traceback (most recent call last)",
      "\u001b[0;32m<ipython-input-178-e2a5cd4ad14f>\u001b[0m in \u001b[0;36m<module>\u001b[0;34m()\u001b[0m\n\u001b[0;32m----> 1\u001b[0;31m \u001b[0;32mraise\u001b[0m \u001b[0mNotImplementedError\u001b[0m\u001b[0;34m(\u001b[0m\u001b[0;34m'API is down right now'\u001b[0m\u001b[0;34m)\u001b[0m\u001b[0;34m\u001b[0m\u001b[0m\n\u001b[0m\u001b[1;32m      2\u001b[0m \u001b[0msession\u001b[0m \u001b[0;34m=\u001b[0m \u001b[0mrequests\u001b[0m\u001b[0;34m.\u001b[0m\u001b[0msession\u001b[0m\u001b[0;34m(\u001b[0m\u001b[0;34m)\u001b[0m\u001b[0;34m\u001b[0m\u001b[0m\n\u001b[1;32m      3\u001b[0m \u001b[0msession\u001b[0m\u001b[0;34m.\u001b[0m\u001b[0mget\u001b[0m\u001b[0;34m(\u001b[0m\u001b[0;34m'https://www.kgis.org/maps/MPCCases.html'\u001b[0m\u001b[0;34m)\u001b[0m \u001b[0;31m# get cookies\u001b[0m\u001b[0;34m\u001b[0m\u001b[0m\n\u001b[1;32m      4\u001b[0m \u001b[0;34m\u001b[0m\u001b[0m\n\u001b[1;32m      5\u001b[0m \u001b[0;32mfor\u001b[0m \u001b[0mlatitude\u001b[0m \u001b[0;32min\u001b[0m \u001b[0mlatitudes\u001b[0m\u001b[0;34m[\u001b[0m\u001b[0;36m10\u001b[0m\u001b[0;34m:\u001b[0m\u001b[0;36m20\u001b[0m\u001b[0;34m]\u001b[0m\u001b[0;34m:\u001b[0m\u001b[0;34m\u001b[0m\u001b[0m\n",
      "\u001b[0;31mNotImplementedError\u001b[0m: API is down right now"
     ]
    }
   ],
   "source": [
    "raise NotImplementedError('API is down right now')\n",
    "session = requests.session()\n",
    "session.get('https://www.kgis.org/maps/MPCCases.html') # get cookies\n",
    "\n",
    "for latitude in latitudes[10:20]:\n",
    "    for longitude in longitudes[10:20]:\n",
    "        if (latitude, longitude) in geo_data:\n",
    "            continue\n",
    "        geo_data[(latitude, longitude)] = query_mpc_inventory(latitude, longitude, query_area, session)\n",
    "\n",
    "geo_pd_data = defaultdict(list)\n",
    "for coord, data in geo_data.items():\n",
    "    for url, values in data.items():\n",
    "        if values is not None:\n",
    "            geo_pd_data[url].append(values)\n",
    "\n",
    "df_data = {}\n",
    "for url in geo_pd_data:\n",
    "    df = pd.concat(geo_pd_data[url]).drop_duplicates()\n",
    "    df_data[url] = df\n",
    "    striped_url = url.remove('/')\n",
    "    df.to_csv('../data/mpc/%s.csv' % striped_url)"
   ]
  },
  {
   "cell_type": "code",
   "execution_count": null,
   "metadata": {},
   "outputs": [],
   "source": []
  }
 ],
 "metadata": {
  "kernelspec": {
   "display_name": "Python 3",
   "language": "python",
   "name": "python3"
  },
  "language_info": {
   "codemirror_mode": {
    "name": "ipython",
    "version": 3
   },
   "file_extension": ".py",
   "mimetype": "text/x-python",
   "name": "python",
   "nbconvert_exporter": "python",
   "pygments_lexer": "ipython3",
   "version": "3.6.5"
  }
 },
 "nbformat": 4,
 "nbformat_minor": 2
}
